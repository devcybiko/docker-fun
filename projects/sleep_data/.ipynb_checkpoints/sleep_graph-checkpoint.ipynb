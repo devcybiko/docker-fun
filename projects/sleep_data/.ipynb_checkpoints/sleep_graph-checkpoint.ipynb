{
 "cells": [
  {
   "cell_type": "code",
   "execution_count": 1,
   "id": "bb680724-3a30-4cf3-a51a-d833911deb7b",
   "metadata": {
    "scrolled": true
   },
   "outputs": [
    {
     "name": "stdout",
     "output_type": "stream",
     "text": [
      "Requirement already satisfied: pandas in /usr/local/lib/python3.10/dist-packages (2.2.1)\n",
      "Requirement already satisfied: numpy<2,>=1.22.4 in /usr/local/lib/python3.10/dist-packages (from pandas) (1.26.4)\n",
      "Requirement already satisfied: pytz>=2020.1 in /usr/local/lib/python3.10/dist-packages (from pandas) (2024.1)\n",
      "Requirement already satisfied: tzdata>=2022.7 in /usr/local/lib/python3.10/dist-packages (from pandas) (2024.1)\n",
      "Requirement already satisfied: python-dateutil>=2.8.2 in /usr/local/lib/python3.10/dist-packages (from pandas) (2.9.0.post0)\n",
      "Requirement already satisfied: six>=1.5 in /usr/local/lib/python3.10/dist-packages (from python-dateutil>=2.8.2->pandas) (1.16.0)\n",
      "\u001b[33mWARNING: Running pip as the 'root' user can result in broken permissions and conflicting behaviour with the system package manager. It is recommended to use a virtual environment instead: https://pip.pypa.io/warnings/venv\u001b[0m\u001b[33m\n",
      "\u001b[0mRequirement already satisfied: matplotlib in /usr/local/lib/python3.10/dist-packages (3.8.3)\n",
      "Requirement already satisfied: contourpy>=1.0.1 in /usr/local/lib/python3.10/dist-packages (from matplotlib) (1.2.0)\n",
      "Requirement already satisfied: fonttools>=4.22.0 in /usr/local/lib/python3.10/dist-packages (from matplotlib) (4.49.0)\n",
      "Requirement already satisfied: cycler>=0.10 in /usr/local/lib/python3.10/dist-packages (from matplotlib) (0.12.1)\n",
      "Requirement already satisfied: packaging>=20.0 in /usr/local/lib/python3.10/dist-packages (from matplotlib) (23.2)\n",
      "Requirement already satisfied: python-dateutil>=2.7 in /usr/local/lib/python3.10/dist-packages (from matplotlib) (2.9.0.post0)\n",
      "Requirement already satisfied: pillow>=8 in /usr/local/lib/python3.10/dist-packages (from matplotlib) (10.2.0)\n",
      "Requirement already satisfied: pyparsing>=2.3.1 in /usr/local/lib/python3.10/dist-packages (from matplotlib) (3.1.2)\n",
      "Requirement already satisfied: numpy<2,>=1.21 in /usr/local/lib/python3.10/dist-packages (from matplotlib) (1.26.4)\n",
      "Requirement already satisfied: kiwisolver>=1.3.1 in /usr/local/lib/python3.10/dist-packages (from matplotlib) (1.4.5)\n",
      "Requirement already satisfied: six>=1.5 in /usr/local/lib/python3.10/dist-packages (from python-dateutil>=2.7->matplotlib) (1.16.0)\n",
      "\u001b[33mWARNING: Running pip as the 'root' user can result in broken permissions and conflicting behaviour with the system package manager. It is recommended to use a virtual environment instead: https://pip.pypa.io/warnings/venv\u001b[0m\u001b[33m\n",
      "\u001b[0mRequirement already satisfied: ipympl in /usr/local/lib/python3.10/dist-packages (0.9.3)\n",
      "Requirement already satisfied: ipython<9 in /usr/local/lib/python3.10/dist-packages (from ipympl) (8.22.2)\n",
      "Requirement already satisfied: numpy in /usr/local/lib/python3.10/dist-packages (from ipympl) (1.26.4)\n",
      "Requirement already satisfied: matplotlib<4,>=3.4.0 in /usr/local/lib/python3.10/dist-packages (from ipympl) (3.8.3)\n",
      "Requirement already satisfied: ipython-genutils in /usr/local/lib/python3.10/dist-packages (from ipympl) (0.2.0)\n",
      "Requirement already satisfied: pillow in /usr/local/lib/python3.10/dist-packages (from ipympl) (10.2.0)\n",
      "Requirement already satisfied: traitlets<6 in /usr/local/lib/python3.10/dist-packages (from ipympl) (5.14.1)\n",
      "Requirement already satisfied: ipywidgets<9,>=7.6.0 in /usr/local/lib/python3.10/dist-packages (from ipympl) (8.1.2)\n",
      "Requirement already satisfied: exceptiongroup in /usr/local/lib/python3.10/dist-packages (from ipython<9->ipympl) (1.2.0)\n",
      "Requirement already satisfied: matplotlib-inline in /usr/local/lib/python3.10/dist-packages (from ipython<9->ipympl) (0.1.6)\n",
      "Requirement already satisfied: pygments>=2.4.0 in /usr/local/lib/python3.10/dist-packages (from ipython<9->ipympl) (2.17.2)\n",
      "Requirement already satisfied: prompt-toolkit<3.1.0,>=3.0.41 in /usr/local/lib/python3.10/dist-packages (from ipython<9->ipympl) (3.0.43)\n",
      "Requirement already satisfied: stack-data in /usr/local/lib/python3.10/dist-packages (from ipython<9->ipympl) (0.6.3)\n",
      "Requirement already satisfied: decorator in /usr/local/lib/python3.10/dist-packages (from ipython<9->ipympl) (5.1.1)\n",
      "Requirement already satisfied: pexpect>4.3 in /usr/local/lib/python3.10/dist-packages (from ipython<9->ipympl) (4.9.0)\n",
      "Requirement already satisfied: jedi>=0.16 in /usr/local/lib/python3.10/dist-packages (from ipython<9->ipympl) (0.19.1)\n",
      "Requirement already satisfied: jupyterlab-widgets~=3.0.10 in /usr/local/lib/python3.10/dist-packages (from ipywidgets<9,>=7.6.0->ipympl) (3.0.10)\n",
      "Requirement already satisfied: widgetsnbextension~=4.0.10 in /usr/local/lib/python3.10/dist-packages (from ipywidgets<9,>=7.6.0->ipympl) (4.0.10)\n",
      "Requirement already satisfied: comm>=0.1.3 in /usr/local/lib/python3.10/dist-packages (from ipywidgets<9,>=7.6.0->ipympl) (0.2.1)\n",
      "Requirement already satisfied: kiwisolver>=1.3.1 in /usr/local/lib/python3.10/dist-packages (from matplotlib<4,>=3.4.0->ipympl) (1.4.5)\n",
      "Requirement already satisfied: pyparsing>=2.3.1 in /usr/local/lib/python3.10/dist-packages (from matplotlib<4,>=3.4.0->ipympl) (3.1.2)\n",
      "Requirement already satisfied: cycler>=0.10 in /usr/local/lib/python3.10/dist-packages (from matplotlib<4,>=3.4.0->ipympl) (0.12.1)\n",
      "Requirement already satisfied: fonttools>=4.22.0 in /usr/local/lib/python3.10/dist-packages (from matplotlib<4,>=3.4.0->ipympl) (4.49.0)\n",
      "Requirement already satisfied: contourpy>=1.0.1 in /usr/local/lib/python3.10/dist-packages (from matplotlib<4,>=3.4.0->ipympl) (1.2.0)\n",
      "Requirement already satisfied: packaging>=20.0 in /usr/local/lib/python3.10/dist-packages (from matplotlib<4,>=3.4.0->ipympl) (23.2)\n",
      "Requirement already satisfied: python-dateutil>=2.7 in /usr/local/lib/python3.10/dist-packages (from matplotlib<4,>=3.4.0->ipympl) (2.9.0.post0)\n",
      "Requirement already satisfied: parso<0.9.0,>=0.8.3 in /usr/local/lib/python3.10/dist-packages (from jedi>=0.16->ipython<9->ipympl) (0.8.3)\n",
      "Requirement already satisfied: ptyprocess>=0.5 in /usr/local/lib/python3.10/dist-packages (from pexpect>4.3->ipython<9->ipympl) (0.7.0)\n",
      "Requirement already satisfied: wcwidth in /usr/local/lib/python3.10/dist-packages (from prompt-toolkit<3.1.0,>=3.0.41->ipython<9->ipympl) (0.2.13)\n",
      "Requirement already satisfied: six>=1.5 in /usr/local/lib/python3.10/dist-packages (from python-dateutil>=2.7->matplotlib<4,>=3.4.0->ipympl) (1.16.0)\n",
      "Requirement already satisfied: asttokens>=2.1.0 in /usr/local/lib/python3.10/dist-packages (from stack-data->ipython<9->ipympl) (2.4.1)\n",
      "Requirement already satisfied: pure-eval in /usr/local/lib/python3.10/dist-packages (from stack-data->ipython<9->ipympl) (0.2.2)\n",
      "Requirement already satisfied: executing>=1.2.0 in /usr/local/lib/python3.10/dist-packages (from stack-data->ipython<9->ipympl) (2.0.1)\n",
      "\u001b[33mWARNING: Running pip as the 'root' user can result in broken permissions and conflicting behaviour with the system package manager. It is recommended to use a virtual environment instead: https://pip.pypa.io/warnings/venv\u001b[0m\u001b[33m\n",
      "\u001b[0mRequirement already satisfied: plotly.express in /usr/local/lib/python3.10/dist-packages (0.4.1)\n",
      "Requirement already satisfied: pandas>=0.20.0 in /usr/local/lib/python3.10/dist-packages (from plotly.express) (2.2.1)\n",
      "Requirement already satisfied: numpy>=1.11 in /usr/local/lib/python3.10/dist-packages (from plotly.express) (1.26.4)\n",
      "Requirement already satisfied: patsy>=0.5 in /usr/local/lib/python3.10/dist-packages (from plotly.express) (0.5.6)\n",
      "Requirement already satisfied: scipy>=0.18 in /usr/local/lib/python3.10/dist-packages (from plotly.express) (1.12.0)\n",
      "Requirement already satisfied: statsmodels>=0.9.0 in /usr/local/lib/python3.10/dist-packages (from plotly.express) (0.14.1)\n",
      "Requirement already satisfied: plotly>=4.1.0 in /usr/local/lib/python3.10/dist-packages (from plotly.express) (5.19.0)\n",
      "Requirement already satisfied: python-dateutil>=2.8.2 in /usr/local/lib/python3.10/dist-packages (from pandas>=0.20.0->plotly.express) (2.9.0.post0)\n",
      "Requirement already satisfied: tzdata>=2022.7 in /usr/local/lib/python3.10/dist-packages (from pandas>=0.20.0->plotly.express) (2024.1)\n",
      "Requirement already satisfied: pytz>=2020.1 in /usr/local/lib/python3.10/dist-packages (from pandas>=0.20.0->plotly.express) (2024.1)\n",
      "Requirement already satisfied: six in /usr/local/lib/python3.10/dist-packages (from patsy>=0.5->plotly.express) (1.16.0)\n",
      "Requirement already satisfied: packaging in /usr/local/lib/python3.10/dist-packages (from plotly>=4.1.0->plotly.express) (23.2)\n",
      "Requirement already satisfied: tenacity>=6.2.0 in /usr/local/lib/python3.10/dist-packages (from plotly>=4.1.0->plotly.express) (8.2.3)\n",
      "\u001b[33mWARNING: Running pip as the 'root' user can result in broken permissions and conflicting behaviour with the system package manager. It is recommended to use a virtual environment instead: https://pip.pypa.io/warnings/venv\u001b[0m\u001b[33m\n",
      "\u001b[0mRequirement already satisfied: ipython in /usr/local/lib/python3.10/dist-packages (8.22.2)\n",
      "Requirement already satisfied: prompt-toolkit<3.1.0,>=3.0.41 in /usr/local/lib/python3.10/dist-packages (from ipython) (3.0.43)\n",
      "Requirement already satisfied: pygments>=2.4.0 in /usr/local/lib/python3.10/dist-packages (from ipython) (2.17.2)\n",
      "Requirement already satisfied: decorator in /usr/local/lib/python3.10/dist-packages (from ipython) (5.1.1)\n",
      "Requirement already satisfied: jedi>=0.16 in /usr/local/lib/python3.10/dist-packages (from ipython) (0.19.1)\n",
      "Requirement already satisfied: stack-data in /usr/local/lib/python3.10/dist-packages (from ipython) (0.6.3)\n",
      "Requirement already satisfied: matplotlib-inline in /usr/local/lib/python3.10/dist-packages (from ipython) (0.1.6)\n",
      "Requirement already satisfied: pexpect>4.3 in /usr/local/lib/python3.10/dist-packages (from ipython) (4.9.0)\n",
      "Requirement already satisfied: exceptiongroup in /usr/local/lib/python3.10/dist-packages (from ipython) (1.2.0)\n",
      "Requirement already satisfied: traitlets>=5.13.0 in /usr/local/lib/python3.10/dist-packages (from ipython) (5.14.1)\n",
      "Requirement already satisfied: parso<0.9.0,>=0.8.3 in /usr/local/lib/python3.10/dist-packages (from jedi>=0.16->ipython) (0.8.3)\n",
      "Requirement already satisfied: ptyprocess>=0.5 in /usr/local/lib/python3.10/dist-packages (from pexpect>4.3->ipython) (0.7.0)\n",
      "Requirement already satisfied: wcwidth in /usr/local/lib/python3.10/dist-packages (from prompt-toolkit<3.1.0,>=3.0.41->ipython) (0.2.13)\n",
      "Requirement already satisfied: asttokens>=2.1.0 in /usr/local/lib/python3.10/dist-packages (from stack-data->ipython) (2.4.1)\n",
      "Requirement already satisfied: executing>=1.2.0 in /usr/local/lib/python3.10/dist-packages (from stack-data->ipython) (2.0.1)\n",
      "Requirement already satisfied: pure-eval in /usr/local/lib/python3.10/dist-packages (from stack-data->ipython) (0.2.2)\n",
      "Requirement already satisfied: six>=1.12.0 in /usr/local/lib/python3.10/dist-packages (from asttokens>=2.1.0->stack-data->ipython) (1.16.0)\n",
      "\u001b[33mWARNING: Running pip as the 'root' user can result in broken permissions and conflicting behaviour with the system package manager. It is recommended to use a virtual environment instead: https://pip.pypa.io/warnings/venv\u001b[0m\u001b[33m\n",
      "\u001b[0mRequirement already satisfied: IPython in /usr/local/lib/python3.10/dist-packages (8.22.2)\n",
      "Requirement already satisfied: matplotlib-inline in /usr/local/lib/python3.10/dist-packages (from IPython) (0.1.6)\n",
      "Requirement already satisfied: stack-data in /usr/local/lib/python3.10/dist-packages (from IPython) (0.6.3)\n",
      "Requirement already satisfied: pexpect>4.3 in /usr/local/lib/python3.10/dist-packages (from IPython) (4.9.0)\n",
      "Requirement already satisfied: decorator in /usr/local/lib/python3.10/dist-packages (from IPython) (5.1.1)\n",
      "Requirement already satisfied: pygments>=2.4.0 in /usr/local/lib/python3.10/dist-packages (from IPython) (2.17.2)\n",
      "Requirement already satisfied: traitlets>=5.13.0 in /usr/local/lib/python3.10/dist-packages (from IPython) (5.14.1)\n",
      "Requirement already satisfied: exceptiongroup in /usr/local/lib/python3.10/dist-packages (from IPython) (1.2.0)\n",
      "Requirement already satisfied: jedi>=0.16 in /usr/local/lib/python3.10/dist-packages (from IPython) (0.19.1)\n",
      "Requirement already satisfied: prompt-toolkit<3.1.0,>=3.0.41 in /usr/local/lib/python3.10/dist-packages (from IPython) (3.0.43)\n",
      "Requirement already satisfied: parso<0.9.0,>=0.8.3 in /usr/local/lib/python3.10/dist-packages (from jedi>=0.16->IPython) (0.8.3)\n",
      "Requirement already satisfied: ptyprocess>=0.5 in /usr/local/lib/python3.10/dist-packages (from pexpect>4.3->IPython) (0.7.0)\n",
      "Requirement already satisfied: wcwidth in /usr/local/lib/python3.10/dist-packages (from prompt-toolkit<3.1.0,>=3.0.41->IPython) (0.2.13)\n",
      "Requirement already satisfied: pure-eval in /usr/local/lib/python3.10/dist-packages (from stack-data->IPython) (0.2.2)\n",
      "Requirement already satisfied: executing>=1.2.0 in /usr/local/lib/python3.10/dist-packages (from stack-data->IPython) (2.0.1)\n",
      "Requirement already satisfied: asttokens>=2.1.0 in /usr/local/lib/python3.10/dist-packages (from stack-data->IPython) (2.4.1)\n",
      "Requirement already satisfied: six>=1.12.0 in /usr/local/lib/python3.10/dist-packages (from asttokens>=2.1.0->stack-data->IPython) (1.16.0)\n",
      "\u001b[33mWARNING: Running pip as the 'root' user can result in broken permissions and conflicting behaviour with the system package manager. It is recommended to use a virtual environment instead: https://pip.pypa.io/warnings/venv\u001b[0m\u001b[33m\n",
      "\u001b[0m\u001b[31mERROR: Could not find a version that satisfies the requirement scipy.interpolate (from versions: none)\u001b[0m\u001b[31m\n",
      "\u001b[0m\u001b[31mERROR: No matching distribution found for scipy.interpolate\u001b[0m\u001b[31m\n",
      "\u001b[0m"
     ]
    }
   ],
   "source": [
    "!pip install --upgrade pandas\n",
    "!pip install --upgrade matplotlib\n",
    "!pip install --upgrade ipympl\n",
    "!pip install --upgrade plotly.express\n",
    "!pip install --upgrade ipython\n",
    "!pip install --upgrade IPython\n",
    "!pip install --upgrade scipy.interpolate\n"
   ]
  },
  {
   "cell_type": "code",
   "execution_count": 2,
   "id": "5f3f6213-baa3-47fb-8161-fb8d9a027464",
   "metadata": {},
   "outputs": [],
   "source": [
    "import pandas as pd\n",
    "import matplotlib\n",
    "import matplotlib.pyplot as plt\n",
    "import numpy as np\n",
    "import plotly.express as px\n",
    "import IPython\n",
    "from scipy.interpolate import interp1d\n",
    "import matplotlib.dates as mdates\n",
    "from scipy.interpolate import CubicSpline\n"
   ]
  },
  {
   "cell_type": "code",
   "execution_count": 42,
   "id": "c312010f-1cef-4723-9043-1d295d9ccac7",
   "metadata": {},
   "outputs": [],
   "source": [
    "def massage_df(df, debug=False, maxO2=200):\n",
    "    ## Date Time noralizing\n",
    "    df['DateTime'] = df['DateTime'].dt.round('1s')\n",
    "    \n",
    "    ## convert to number\n",
    "    df['O2'] = pd.to_numeric(df['O2'], errors='coerce')\n",
    "    df['PR'] = pd.to_numeric(df['PR'], errors='coerce')\n",
    "\n",
    "    # drop bad data\n",
    "    df[df['O2'] > maxO2] = np.nan  # replace with NaN or any other value if needed\n",
    "    nan_count = df.isna().sum(axis=0)\n",
    "    nan_rows = df[df.isna().any(axis=1)]\n",
    "    df.dropna(inplace=True)\n",
    "    # if (debug): \n",
    "    #     print(f\"Number of NaN values in viatom:\\n{nan_count}\")\n",
    "    #     print(f\"nan_rows={nan_rows}\")\n",
    "\n",
    "    # remove dupes\n",
    "    df = df.sort_values('DateTime').drop_duplicates()\n",
    "\n",
    "    # aggregate to nearest minute\n",
    "    df['DateTime'] = df['DateTime'].dt.floor('min')  # 'T' stands for minute\n",
    "    # Perform aggregation (e.g., taking the mean of 'Value' for each minute)\n",
    "    df = df.groupby('DateTime')['O2'].mean().reset_index()\n",
    "\n",
    "    # remove dupes\n",
    "    df = df.sort_values('DateTime').drop_duplicates()\n",
    "\n",
    "    df['dO2'] = df['O2'].diff().abs()\n",
    "    df.dropna(inplace=True)\n",
    "    df['dO2'] = df['dO2'].astype(int)\n",
    "\n",
    "    if (debug):\n",
    "        print(df.head())\n",
    "        print(df.describe(include='all', percentiles=[.25, .5, .75, .90, .95, .99]))\n",
    "\n",
    "    return df\n"
   ]
  },
  {
   "cell_type": "code",
   "execution_count": 43,
   "id": "5d4bca8b-5514-4ec4-8ca0-1fd9a9d29869",
   "metadata": {},
   "outputs": [],
   "source": [
    "def read_emay(debug=False, maxO2=200):\n",
    "    df = pd.read_csv('emay.csv')\n",
    "    \n",
    "    ## renaming columns\n",
    "    df.rename(columns={'SpO2(%)': 'O2'}, inplace=True)\n",
    "    df.rename(columns={'PR(bpm)': 'PR'}, inplace=True)\n",
    "    \n",
    "    ## Date Time conversion\n",
    "    df['DateTime'] = df['Date'].astype(str) + \" \" + df['Time'].astype(str)\n",
    "    df.drop(columns=['Date', \"Time\"], inplace=True)\n",
    "    df['DateTime'] = pd.to_datetime(df['DateTime'], errors='coerce')\n",
    "    \n",
    "    return massage_df(df, debug, maxO2)\n"
   ]
  },
  {
   "cell_type": "code",
   "execution_count": 44,
   "id": "c692b6c9-b68c-4aeb-b9dc-1bfc0f3a183b",
   "metadata": {},
   "outputs": [],
   "source": [
    "def read_viatom(debug=False, maxO2=200):\n",
    "    df = pd.read_csv('viatom.csv')\n",
    "\n",
    "    ## renaming columns\n",
    "    df.rename(columns={'Oxygen Level': 'O2'}, inplace=True)\n",
    "    df.rename(columns={'Pulse Rate': 'PR'}, inplace=True)\n",
    "\n",
    "    ## Date Time conversion\n",
    "    df['DateTime'] = pd.to_datetime(df['Time'], errors='coerce')\n",
    "\n",
    "    #drop other columns\n",
    "    df.drop(columns=['Motion', \"O2 Reminder\", \"PR Reminder\", \"Time\"], inplace=True)    \n",
    "    return massage_df(df, debug, maxO2)\n"
   ]
  },
  {
   "cell_type": "code",
   "execution_count": 49,
   "id": "335d25ab-c480-4a3d-bf7e-807cea52194b",
   "metadata": {},
   "outputs": [],
   "source": [
    "def plot_two(df1, df2, col='O2', name1=\"emay\", name2=\"viatom\"):\n",
    "    plt.figure(figsize=(10, 6))  # Set the figure size\n",
    "\n",
    "    plt.bar(df1['DateTime'], df1[col], label=name1) #, marker='o',  s=5)\n",
    "    plt.bar(df2['DateTime'], df2[col], label=name2) #, marker='o',  s=5)\n",
    "    \n",
    "    plt.xlabel('DateTime')\n",
    "    plt.ylabel('O2')\n",
    "    plt.title('O2 Levels Over Time')\n",
    "    plt.legend()  # Show legend with DataFrame names\n",
    "    plt.grid(True)\n",
    "    \n",
    "    # Show the plot\n",
    "    plt.show()"
   ]
  },
  {
   "cell_type": "code",
   "execution_count": 50,
   "id": "7b4fdb0b-cccb-452b-8782-d1e124f2a95f",
   "metadata": {},
   "outputs": [],
   "source": [
    "# load the data frames\n",
    "DEBUG = False\n",
    "emay = read_emay(DEBUG)"
   ]
  },
  {
   "cell_type": "code",
   "execution_count": 51,
   "id": "a1e48093-3b96-4c58-855a-c2037f7b59fe",
   "metadata": {},
   "outputs": [
    {
     "name": "stdout",
     "output_type": "stream",
     "text": [
      "              DateTime         O2  dO2\n",
      "1  2024-02-27 22:53:00  92.266667    2\n",
      "2  2024-02-27 22:54:00  92.200000    0\n",
      "3  2024-02-27 22:55:00  92.333333    0\n",
      "4  2024-02-27 22:56:00  94.866667    2\n",
      "5  2024-02-27 22:57:00  91.266667    3\n",
      "6  2024-02-27 22:58:00  91.733333    0\n",
      "7  2024-02-27 22:59:00  90.866667    0\n",
      "8  2024-02-27 23:00:00  91.133333    0\n",
      "9  2024-02-27 23:01:00  91.400000    0\n",
      "10 2024-02-27 23:02:00  92.600000    1\n",
      "11 2024-02-27 23:03:00  93.400000    0\n",
      "12 2024-02-27 23:04:00  93.466667    0\n",
      "13 2024-02-27 23:05:00  92.933333    0\n",
      "14 2024-02-27 23:06:00  92.733333    0\n",
      "15 2024-02-27 23:07:00  91.866667    0\n",
      "16 2024-02-27 23:08:00  92.733333    0\n",
      "17 2024-02-27 23:09:00  93.266667    0\n",
      "18 2024-02-27 23:10:00  94.200000    0\n",
      "19 2024-02-27 23:11:00  93.933333    0\n",
      "20 2024-02-27 23:12:00  93.800000    0\n"
     ]
    }
   ],
   "source": [
    "viatom = read_viatom(DEBUG)\n",
    "print(viatom.head(20))"
   ]
  },
  {
   "cell_type": "code",
   "execution_count": 52,
   "id": "6342c2db-db64-44b6-941d-9aa802256e84",
   "metadata": {},
   "outputs": [
    {
     "data": {
      "application/vnd.jupyter.widget-view+json": {
       "model_id": "fef8654ca9904b00b8df21d170e6342d",
       "version_major": 2,
       "version_minor": 0
      },
      "image/png": "[encoded data removed]",
      "text/html": [
       "\n",
       "            <div style=\"display: inline-block;\">\n",
       "                <div class=\"jupyter-widgets widget-label\" style=\"text-align: center;\">\n",
       "                    Figure\n",
       "                </div>\n",
       "                <img src='data:image/png;base64,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' width=1000.0/>\n",
       "            </div>\n",
       "        "
      ],
      "text/plain": [
       "Canvas(toolbar=Toolbar(toolitems=[('Home', 'Reset original view', 'home', 'home'), ('Back', 'Back to previous …"
      ]
     },
     "metadata": {},
     "output_type": "display_data"
    }
   ],
   "source": [
    "# plot them\n",
    "\n",
    "threshold_date='2024-02-28'\n",
    "filtered_emay = emay[emay['DateTime'] > threshold_date]\n",
    "filtered_viatom = viatom[viatom['DateTime'] > threshold_date]\n",
    "\n",
    "%matplotlib widget\n",
    "plot_two(filtered_emay, filtered_viatom, 'dO2')"
   ]
  },
  {
   "cell_type": "code",
   "execution_count": null,
   "id": "0cbfe554-72c6-4771-ab70-59cb921927d0",
   "metadata": {},
   "outputs": [],
   "source": []
  },
  {
   "cell_type": "code",
   "execution_count": 10,
   "id": "d6222b44-a646-4329-b49f-3a197b2e65d4",
   "metadata": {},
   "outputs": [
    {
     "name": "stdout",
     "output_type": "stream",
     "text": [
      "7.1.1\n"
     ]
    }
   ],
   "source": [
    "!jupyter notebook --version\n"
   ]
  },
  {
   "cell_type": "code",
   "execution_count": 11,
   "id": "2ae8831d-610d-438b-9605-2ffe3065df07",
   "metadata": {},
   "outputs": [
    {
     "name": "stdout",
     "output_type": "stream",
     "text": [
      "3.8.3\n"
     ]
    }
   ],
   "source": [
    "print(matplotlib.__version__)\n"
   ]
  },
  {
   "cell_type": "code",
   "execution_count": 12,
   "id": "5e4f6249-6538-4e33-8566-37cab3e56de4",
   "metadata": {},
   "outputs": [
    {
     "name": "stdout",
     "output_type": "stream",
     "text": [
      "8.22.2\n",
      "8.22.2\n"
     ]
    }
   ],
   "source": [
    "print(IPython.__version__)\n",
    "print(IPython.__version__)\n",
    "\n"
   ]
  },
  {
   "cell_type": "code",
   "execution_count": 13,
   "id": "06c32ad5-af01-40fa-9252-d37b486ad4a5",
   "metadata": {},
   "outputs": [
    {
     "name": "stdout",
     "output_type": "stream",
     "text": [
      "8.22.2\n"
     ]
    }
   ],
   "source": [
    "!ipython --version"
   ]
  },
  {
   "cell_type": "code",
   "execution_count": null,
   "id": "990e350d-05fa-4f12-a531-f2ead963c0f2",
   "metadata": {},
   "outputs": [],
   "source": []
  }
 ],
 "metadata": {
  "kernelspec": {
   "display_name": "Python 3 (ipykernel)",
   "language": "python",
   "name": "python3"
  },
  "language_info": {
   "codemirror_mode": {
    "name": "ipython",
    "version": 3
   },
   "file_extension": ".py",
   "mimetype": "text/x-python",
   "name": "python",
   "nbconvert_exporter": "python",
   "pygments_lexer": "ipython3",
   "version": "3.10.12"
  }
 },
 "nbformat": 4,
 "nbformat_minor": 5
}
